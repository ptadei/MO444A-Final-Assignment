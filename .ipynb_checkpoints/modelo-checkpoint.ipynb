{
 "cells": [
  {
   "cell_type": "code",
   "execution_count": 1,
   "metadata": {},
   "outputs": [],
   "source": [
    "import pandas as pd\n",
    "import re\n",
    "import numpy as np\n",
    "\n",
    "data = pd.read_pickle('../../data/trojans_dataset.pkl')"
   ]
  },
  {
   "cell_type": "markdown",
   "metadata": {},
   "source": [
    "## Pre Processing"
   ]
  },
  {
   "cell_type": "code",
   "execution_count": 2,
   "metadata": {},
   "outputs": [
    {
     "data": {
      "text/html": [
       "<div>\n",
       "<style scoped>\n",
       "    .dataframe tbody tr th:only-of-type {\n",
       "        vertical-align: middle;\n",
       "    }\n",
       "\n",
       "    .dataframe tbody tr th {\n",
       "        vertical-align: top;\n",
       "    }\n",
       "\n",
       "    .dataframe thead th {\n",
       "        text-align: right;\n",
       "    }\n",
       "</style>\n",
       "<table border=\"1\" class=\"dataframe\">\n",
       "  <thead>\n",
       "    <tr style=\"text-align: right;\">\n",
       "      <th></th>\n",
       "      <th>urls</th>\n",
       "      <th>static.pe.imported_dll_count</th>\n",
       "      <th>exiftool.EXE-CodeSize</th>\n",
       "      <th>exiftool.File-FileSize</th>\n",
       "      <th>die.library</th>\n",
       "      <th>die.compiler</th>\n",
       "      <th>die.linker</th>\n",
       "      <th>exiftool.EXE-CharacterSet</th>\n",
       "      <th>exiftool.EXE-ObjectFileType</th>\n",
       "      <th>exiftool.EXE-LegalCopyright</th>\n",
       "      <th>exiftool.EXE-FileDescription</th>\n",
       "      <th>vt.total_scans</th>\n",
       "    </tr>\n",
       "  </thead>\n",
       "  <tbody>\n",
       "    <tr>\n",
       "      <th>0</th>\n",
       "      <td>[]</td>\n",
       "      <td>0.0</td>\n",
       "      <td>570880</td>\n",
       "      <td>2.4 MB</td>\n",
       "      <td>NaN</td>\n",
       "      <td>NaN</td>\n",
       "      <td>Microsoft Linker(11.0)[EXE32]</td>\n",
       "      <td>NaN</td>\n",
       "      <td>NaN</td>\n",
       "      <td>NaN</td>\n",
       "      <td>NaN</td>\n",
       "      <td>68.0</td>\n",
       "    </tr>\n",
       "    <tr>\n",
       "      <th>1</th>\n",
       "      <td>[]</td>\n",
       "      <td>1.0</td>\n",
       "      <td>116736</td>\n",
       "      <td>201 kB</td>\n",
       "      <td>NaN</td>\n",
       "      <td>Microsoft Visual C/C++(2008 SP1)[libcmt]</td>\n",
       "      <td>Microsoft Linker(9.0)[EXE32]</td>\n",
       "      <td>NaN</td>\n",
       "      <td>NaN</td>\n",
       "      <td>NaN</td>\n",
       "      <td>NaN</td>\n",
       "      <td>65.0</td>\n",
       "    </tr>\n",
       "    <tr>\n",
       "      <th>2</th>\n",
       "      <td>[]</td>\n",
       "      <td>0.0</td>\n",
       "      <td>13824</td>\n",
       "      <td>36 kB</td>\n",
       "      <td>NaN</td>\n",
       "      <td>Microsoft Visual C/C++(2008 SP1)[-]</td>\n",
       "      <td>Microsoft Linker(9.0)[DLL32]</td>\n",
       "      <td>NaN</td>\n",
       "      <td>NaN</td>\n",
       "      <td>NaN</td>\n",
       "      <td>NaN</td>\n",
       "      <td>NaN</td>\n",
       "    </tr>\n",
       "    <tr>\n",
       "      <th>3</th>\n",
       "      <td>[]</td>\n",
       "      <td>10.0</td>\n",
       "      <td>389120</td>\n",
       "      <td>459 kB</td>\n",
       "      <td>NaN</td>\n",
       "      <td>Borland C++(Builder)[-]</td>\n",
       "      <td>Turbo Linker(5.0)[EXE32]</td>\n",
       "      <td>NaN</td>\n",
       "      <td>NaN</td>\n",
       "      <td>NaN</td>\n",
       "      <td>NaN</td>\n",
       "      <td>68.0</td>\n",
       "    </tr>\n",
       "    <tr>\n",
       "      <th>4</th>\n",
       "      <td>[]</td>\n",
       "      <td>0.0</td>\n",
       "      <td>260608</td>\n",
       "      <td>288 kB</td>\n",
       "      <td>NaN</td>\n",
       "      <td>Microsoft Visual C/C++(2008 SP1)[-]</td>\n",
       "      <td>Microsoft Linker(9.0)[DLL32,console]</td>\n",
       "      <td>NaN</td>\n",
       "      <td>NaN</td>\n",
       "      <td>NaN</td>\n",
       "      <td>NaN</td>\n",
       "      <td>NaN</td>\n",
       "    </tr>\n",
       "    <tr>\n",
       "      <th>5</th>\n",
       "      <td>[http://cache-download.real.com/free/windows/i...</td>\n",
       "      <td>0.0</td>\n",
       "      <td>660480</td>\n",
       "      <td>1104 kB</td>\n",
       "      <td>NaN</td>\n",
       "      <td>NaN</td>\n",
       "      <td>Microsoft Linker(10.0)[EXE32]</td>\n",
       "      <td>NaN</td>\n",
       "      <td>NaN</td>\n",
       "      <td>NaN</td>\n",
       "      <td>NaN</td>\n",
       "      <td>NaN</td>\n",
       "    </tr>\n",
       "    <tr>\n",
       "      <th>6</th>\n",
       "      <td>[http://www.mozilla.org/editor/midasdemo/secur...</td>\n",
       "      <td>40.0</td>\n",
       "      <td>10261504</td>\n",
       "      <td>13 MB</td>\n",
       "      <td>NaN</td>\n",
       "      <td>Embarcadero Delphi(XE2-XE6)[-]</td>\n",
       "      <td>Turbo Linker(2.25*,Delphi)[EXE32]</td>\n",
       "      <td>Windows, Latin1</td>\n",
       "      <td>Executable application</td>\n",
       "      <td>NaN</td>\n",
       "      <td>NaN</td>\n",
       "      <td>62.0</td>\n",
       "    </tr>\n",
       "    <tr>\n",
       "      <th>7</th>\n",
       "      <td>[http://lame.sf.net, http://www.openssl.org/su...</td>\n",
       "      <td>15.0</td>\n",
       "      <td>1247232</td>\n",
       "      <td>2.6 MB</td>\n",
       "      <td>NaN</td>\n",
       "      <td>Microsoft Visual C/C++(2008)[libcmt,wWinMain]</td>\n",
       "      <td>Microsoft Linker(9.0)[EXE32]</td>\n",
       "      <td>NaN</td>\n",
       "      <td>NaN</td>\n",
       "      <td>NaN</td>\n",
       "      <td>NaN</td>\n",
       "      <td>63.0</td>\n",
       "    </tr>\n",
       "    <tr>\n",
       "      <th>8</th>\n",
       "      <td>[]</td>\n",
       "      <td>0.0</td>\n",
       "      <td>93696</td>\n",
       "      <td>128 kB</td>\n",
       "      <td>NaN</td>\n",
       "      <td>Microsoft Visual C/C++(2008 SP1)[-]</td>\n",
       "      <td>Microsoft Linker(9.0)[DLL32]</td>\n",
       "      <td>NaN</td>\n",
       "      <td>NaN</td>\n",
       "      <td>NaN</td>\n",
       "      <td>NaN</td>\n",
       "      <td>NaN</td>\n",
       "    </tr>\n",
       "    <tr>\n",
       "      <th>9</th>\n",
       "      <td>[http://ts-crl.ws.symantec.com/tss-ca-g2.crl0(...</td>\n",
       "      <td>3.0</td>\n",
       "      <td>2048</td>\n",
       "      <td>16 kB</td>\n",
       "      <td>NaN</td>\n",
       "      <td>Microsoft Visual C/C++(2010 SP1)[-]</td>\n",
       "      <td>Microsoft Linker(10.0)[EXE64,console,signed]</td>\n",
       "      <td>Unicode</td>\n",
       "      <td>Executable application</td>\n",
       "      <td>Copyright © 2015</td>\n",
       "      <td>Java(TM) Platform SE binary</td>\n",
       "      <td>NaN</td>\n",
       "    </tr>\n",
       "  </tbody>\n",
       "</table>\n",
       "</div>"
      ],
      "text/plain": [
       "                                                urls  \\\n",
       "0                                                 []   \n",
       "1                                                 []   \n",
       "2                                                 []   \n",
       "3                                                 []   \n",
       "4                                                 []   \n",
       "5  [http://cache-download.real.com/free/windows/i...   \n",
       "6  [http://www.mozilla.org/editor/midasdemo/secur...   \n",
       "7  [http://lame.sf.net, http://www.openssl.org/su...   \n",
       "8                                                 []   \n",
       "9  [http://ts-crl.ws.symantec.com/tss-ca-g2.crl0(...   \n",
       "\n",
       "   static.pe.imported_dll_count exiftool.EXE-CodeSize exiftool.File-FileSize  \\\n",
       "0                           0.0                570880                 2.4 MB   \n",
       "1                           1.0                116736                 201 kB   \n",
       "2                           0.0                 13824                  36 kB   \n",
       "3                          10.0                389120                 459 kB   \n",
       "4                           0.0                260608                 288 kB   \n",
       "5                           0.0                660480                1104 kB   \n",
       "6                          40.0              10261504                  13 MB   \n",
       "7                          15.0               1247232                 2.6 MB   \n",
       "8                           0.0                 93696                 128 kB   \n",
       "9                           3.0                  2048                  16 kB   \n",
       "\n",
       "  die.library                                   die.compiler  \\\n",
       "0         NaN                                            NaN   \n",
       "1         NaN       Microsoft Visual C/C++(2008 SP1)[libcmt]   \n",
       "2         NaN            Microsoft Visual C/C++(2008 SP1)[-]   \n",
       "3         NaN                        Borland C++(Builder)[-]   \n",
       "4         NaN            Microsoft Visual C/C++(2008 SP1)[-]   \n",
       "5         NaN                                            NaN   \n",
       "6         NaN                 Embarcadero Delphi(XE2-XE6)[-]   \n",
       "7         NaN  Microsoft Visual C/C++(2008)[libcmt,wWinMain]   \n",
       "8         NaN            Microsoft Visual C/C++(2008 SP1)[-]   \n",
       "9         NaN            Microsoft Visual C/C++(2010 SP1)[-]   \n",
       "\n",
       "                                     die.linker exiftool.EXE-CharacterSet  \\\n",
       "0                 Microsoft Linker(11.0)[EXE32]                       NaN   \n",
       "1                  Microsoft Linker(9.0)[EXE32]                       NaN   \n",
       "2                  Microsoft Linker(9.0)[DLL32]                       NaN   \n",
       "3                      Turbo Linker(5.0)[EXE32]                       NaN   \n",
       "4          Microsoft Linker(9.0)[DLL32,console]                       NaN   \n",
       "5                 Microsoft Linker(10.0)[EXE32]                       NaN   \n",
       "6             Turbo Linker(2.25*,Delphi)[EXE32]           Windows, Latin1   \n",
       "7                  Microsoft Linker(9.0)[EXE32]                       NaN   \n",
       "8                  Microsoft Linker(9.0)[DLL32]                       NaN   \n",
       "9  Microsoft Linker(10.0)[EXE64,console,signed]                   Unicode   \n",
       "\n",
       "  exiftool.EXE-ObjectFileType exiftool.EXE-LegalCopyright  \\\n",
       "0                         NaN                         NaN   \n",
       "1                         NaN                         NaN   \n",
       "2                         NaN                         NaN   \n",
       "3                         NaN                         NaN   \n",
       "4                         NaN                         NaN   \n",
       "5                         NaN                         NaN   \n",
       "6      Executable application                         NaN   \n",
       "7                         NaN                         NaN   \n",
       "8                         NaN                         NaN   \n",
       "9      Executable application            Copyright © 2015   \n",
       "\n",
       "  exiftool.EXE-FileDescription  vt.total_scans  \n",
       "0                          NaN            68.0  \n",
       "1                          NaN            65.0  \n",
       "2                          NaN             NaN  \n",
       "3                          NaN            68.0  \n",
       "4                          NaN             NaN  \n",
       "5                          NaN             NaN  \n",
       "6                          NaN            62.0  \n",
       "7                          NaN            63.0  \n",
       "8                          NaN             NaN  \n",
       "9  Java(TM) Platform SE binary             NaN  "
      ]
     },
     "execution_count": 2,
     "metadata": {},
     "output_type": "execute_result"
    }
   ],
   "source": [
    "cols = ['urls','static.pe.imported_dll_count','exiftool.EXE-CodeSize',\n",
    "        'exiftool.File-FileSize','die.library','die.compiler','die.linker','exiftool.EXE-CharacterSet',\n",
    "        'exiftool.EXE-ObjectFileType', 'exiftool.EXE-LegalCopyright','exiftool.EXE-FileDescription',\n",
    "        'vt.total_scans']\n",
    "data[cols].head(10)"
   ]
  },
  {
   "cell_type": "markdown",
   "metadata": {},
   "source": [
    "#### Column 'urls':\n",
    "Description: contains an array of urls accessed by the program file<br>\n",
    "Action: create a new feature that tells if the program file request urls or not"
   ]
  },
  {
   "cell_type": "code",
   "execution_count": 3,
   "metadata": {},
   "outputs": [],
   "source": [
    "data['HasUrls'] = data['urls'].apply(lambda x: len(x)>0)"
   ]
  },
  {
   "cell_type": "code",
   "execution_count": 4,
   "metadata": {},
   "outputs": [
    {
     "data": {
      "text/plain": [
       "0    False\n",
       "1    False\n",
       "2    False\n",
       "3    False\n",
       "4    False\n",
       "5     True\n",
       "6     True\n",
       "7     True\n",
       "8    False\n",
       "9     True\n",
       "Name: HasUrls, dtype: bool"
      ]
     },
     "execution_count": 4,
     "metadata": {},
     "output_type": "execute_result"
    }
   ],
   "source": [
    "# Example of Has Urls\n",
    "data.HasUrls.head(10)"
   ]
  },
  {
   "cell_type": "markdown",
   "metadata": {},
   "source": [
    "#### Column 'static.pe.imported_dll_count':\n",
    "Description: number of dlls used on file<br>\n",
    "Action: fill missing values with the mean of dlls"
   ]
  },
  {
   "cell_type": "code",
   "execution_count": 5,
   "metadata": {},
   "outputs": [],
   "source": [
    "mean = data['static.pe.imported_dll_count'].mean()\n",
    "data['DLL_COUNT'] = data['static.pe.imported_dll_count'].fillna(mean).astype(int)"
   ]
  },
  {
   "cell_type": "code",
   "execution_count": 6,
   "metadata": {},
   "outputs": [
    {
     "data": {
      "text/plain": [
       "0     0\n",
       "1     1\n",
       "2     0\n",
       "3    10\n",
       "4     0\n",
       "5     0\n",
       "6    40\n",
       "7    15\n",
       "8     0\n",
       "9     3\n",
       "Name: DLL_COUNT, dtype: int64"
      ]
     },
     "execution_count": 6,
     "metadata": {},
     "output_type": "execute_result"
    }
   ],
   "source": [
    "# Example of DLL counts\n",
    "data.DLL_COUNT.head(10)"
   ]
  },
  {
   "cell_type": "markdown",
   "metadata": {},
   "source": [
    "#### Column 'exiftool.EXE-CodeSize':\n",
    "Description: size of file source code<br>\n",
    "Action: fill missing values with the mean value"
   ]
  },
  {
   "cell_type": "code",
   "execution_count": 7,
   "metadata": {},
   "outputs": [],
   "source": [
    "mean = data['exiftool.EXE-CodeSize'].astype(float).mean()\n",
    "data['CodeSize'] = data['exiftool.EXE-CodeSize'].fillna(mean).astype(int)"
   ]
  },
  {
   "cell_type": "code",
   "execution_count": 8,
   "metadata": {},
   "outputs": [
    {
     "data": {
      "text/plain": [
       "0      570880\n",
       "1      116736\n",
       "2       13824\n",
       "3      389120\n",
       "4      260608\n",
       "5      660480\n",
       "6    10261504\n",
       "7     1247232\n",
       "8       93696\n",
       "9        2048\n",
       "Name: CodeSize, dtype: int64"
      ]
     },
     "execution_count": 8,
     "metadata": {},
     "output_type": "execute_result"
    }
   ],
   "source": [
    "# Example of Code Size(non-normalized yet)\n",
    "data.CodeSize.head(10)"
   ]
  },
  {
   "cell_type": "markdown",
   "metadata": {},
   "source": [
    "#### Column 'exiftool.File-FileSize':\n",
    "Description: file size<br>\n",
    "Action: create a magnitude order of size as: bytes, kB, MB, large"
   ]
  },
  {
   "cell_type": "code",
   "execution_count": 9,
   "metadata": {},
   "outputs": [],
   "source": [
    "def size_extract(x):\n",
    "    number, order = x.split()\n",
    "    if((float(number)>100) & (order=='MB')):\n",
    "        order = 'large'\n",
    "    return order\n",
    "\n",
    "data['FileSize'] = data['exiftool.File-FileSize'].apply(size_extract).astype('category')"
   ]
  },
  {
   "cell_type": "code",
   "execution_count": 10,
   "metadata": {},
   "outputs": [
    {
     "data": {
      "text/plain": [
       "kB       18018\n",
       "MB        1923\n",
       "large       38\n",
       "bytes       21\n",
       "Name: FileSize, dtype: int64"
      ]
     },
     "execution_count": 10,
     "metadata": {},
     "output_type": "execute_result"
    }
   ],
   "source": [
    "# Example of File Size\n",
    "data.FileSize.value_counts()"
   ]
  },
  {
   "cell_type": "markdown",
   "metadata": {},
   "source": [
    "#### Columns 'die.library', 'die.compiler', 'die.linker':\n",
    "Description: tells the library, compiler e linker used to create the file<br>\n",
    "Action: create categories for these columns"
   ]
  },
  {
   "cell_type": "code",
   "execution_count": 11,
   "metadata": {},
   "outputs": [],
   "source": [
    "data['Library'] = data['die.library'].fillna('unknown') \\\n",
    "                .astype('str').apply(lambda x: re.sub(r'\\(.*','',x.lower())).astype('category')"
   ]
  },
  {
   "cell_type": "code",
   "execution_count": 12,
   "metadata": {},
   "outputs": [],
   "source": [
    "data['Compiler'] = data['die.compiler'].fillna('unknown') \\\n",
    "                .astype('str').apply(lambda x: re.sub(r'\\(.*','',x.lower())).astype('category')"
   ]
  },
  {
   "cell_type": "code",
   "execution_count": 13,
   "metadata": {},
   "outputs": [],
   "source": [
    "data['Linker'] = data['die.linker'].fillna('unknown') \\\n",
    "                .astype('str').apply(lambda x: re.sub(r'\\(.*','',x.lower())).astype('category')"
   ]
  },
  {
   "cell_type": "code",
   "execution_count": 14,
   "metadata": {},
   "outputs": [
    {
     "data": {
      "text/plain": [
       "microsoft linker    14077\n",
       "unknown              3612\n",
       "turbo linker         1572\n",
       "gnu linker            691\n",
       "polink                 40\n",
       "lcc linker              5\n",
       "watcom linker           2\n",
       "borland tlink           1\n",
       "Name: Linker, dtype: int64"
      ]
     },
     "execution_count": 14,
     "metadata": {},
     "output_type": "execute_result"
    }
   ],
   "source": [
    "# Example of categories\n",
    "data['Linker'].value_counts()"
   ]
  },
  {
   "cell_type": "markdown",
   "metadata": {},
   "source": [
    "#### Columns 'exiftool.EXE-CharacterSet':\n",
    "Description: charset type<br>\n",
    "Action: create categories for this column"
   ]
  },
  {
   "cell_type": "code",
   "execution_count": 15,
   "metadata": {},
   "outputs": [],
   "source": [
    "def charset(x):\n",
    "    if ((x!='Unicode') & (x!='Windows, Latin1') & (x!='ASCII')):\n",
    "        x = 'Other'\n",
    "    return x\n",
    "data['CharSet'] = data['exiftool.EXE-CharacterSet'].apply(charset).fillna('Other').astype('category')"
   ]
  },
  {
   "cell_type": "code",
   "execution_count": 16,
   "metadata": {},
   "outputs": [
    {
     "data": {
      "text/plain": [
       "Other              15544\n",
       "Unicode             3605\n",
       "Windows, Latin1      803\n",
       "ASCII                 48\n",
       "Name: CharSet, dtype: int64"
      ]
     },
     "execution_count": 16,
     "metadata": {},
     "output_type": "execute_result"
    }
   ],
   "source": [
    "# Example of charset categories\n",
    "data.CharSet.value_counts()"
   ]
  },
  {
   "cell_type": "markdown",
   "metadata": {},
   "source": [
    "#### Columns 'exiftool.EXE-ObjectFileType':\n",
    "Description: file type<br>\n",
    "Action: create categories for this column"
   ]
  },
  {
   "cell_type": "code",
   "execution_count": 17,
   "metadata": {},
   "outputs": [],
   "source": [
    "data['FileType'] = data['exiftool.EXE-ObjectFileType'].fillna('Unknown').astype('category')"
   ]
  },
  {
   "cell_type": "code",
   "execution_count": 18,
   "metadata": {},
   "outputs": [
    {
     "data": {
      "text/plain": [
       "Unknown                   15632\n",
       "Executable application     3430\n",
       "Dynamic link library        888\n",
       "Driver                       47\n",
       "Static library                3\n",
       "Name: FileType, dtype: int64"
      ]
     },
     "execution_count": 18,
     "metadata": {},
     "output_type": "execute_result"
    }
   ],
   "source": [
    "# Example of filetype categories\n",
    "data.FileType.value_counts()"
   ]
  },
  {
   "cell_type": "markdown",
   "metadata": {},
   "source": [
    "#### Columns 'exiftool.EXE-LegalCopyright', 'exiftool.EXE-FileDescription':\n",
    "Description: shows copyright and a description of the file<br>\n",
    "Action: create a boolean telling if the file has copyright/description"
   ]
  },
  {
   "cell_type": "code",
   "execution_count": 19,
   "metadata": {},
   "outputs": [],
   "source": [
    "data['HasCopyright'] = data['exiftool.EXE-LegalCopyright'].isnull() == False"
   ]
  },
  {
   "cell_type": "code",
   "execution_count": 20,
   "metadata": {},
   "outputs": [],
   "source": [
    "data['HasDescription'] = data['exiftool.EXE-FileDescription'].isnull() == False"
   ]
  },
  {
   "cell_type": "code",
   "execution_count": 21,
   "metadata": {},
   "outputs": [
    {
     "data": {
      "text/plain": [
       "0     False\n",
       "1     False\n",
       "2     False\n",
       "3     False\n",
       "4     False\n",
       "5     False\n",
       "6     False\n",
       "7     False\n",
       "8     False\n",
       "9      True\n",
       "10     True\n",
       "Name: HasCopyright, dtype: bool"
      ]
     },
     "execution_count": 21,
     "metadata": {},
     "output_type": "execute_result"
    }
   ],
   "source": [
    "# Example of Has columns\n",
    "data.HasCopyright.head(11)"
   ]
  },
  {
   "cell_type": "markdown",
   "metadata": {},
   "source": [
    "#### Columns 'vt.total_scans':\n",
    "Description: this column contains the number of anti virus scans that told if it is a virus.\n",
    "<b>It will be our target for this model</b><br>\n",
    "Action: create boolean if it is a virus or not"
   ]
  },
  {
   "cell_type": "code",
   "execution_count": 22,
   "metadata": {},
   "outputs": [],
   "source": [
    "data['IsMalware']  = (data['vt.total_scans'] >= 50).astype(int)"
   ]
  },
  {
   "cell_type": "markdown",
   "metadata": {},
   "source": [
    "### Feature Extraction"
   ]
  },
  {
   "cell_type": "code",
   "execution_count": 23,
   "metadata": {},
   "outputs": [],
   "source": [
    "items = ['HasUrls',\n",
    "         'DLL_COUNT',\n",
    "         'CodeSize',\n",
    "         'FileSize',\n",
    "         'mss_coordinates.BawaneH',\n",
    "         'mss_coordinates.MultiEncryptWinDLL',\n",
    "         'mss_coordinates.Sayonara',\n",
    "         'mss_coordinates.WhatsappSLDLL',         \n",
    "         'Library',\n",
    "         'Compiler',\n",
    "         'Linker',\n",
    "         'CharSet',\n",
    "         'FileType',\n",
    "         'HasCopyright',\n",
    "         'HasDescription',\n",
    "         'IsMalware'\n",
    "        ]"
   ]
  },
  {
   "cell_type": "code",
   "execution_count": 24,
   "metadata": {},
   "outputs": [],
   "source": [
    "data_fil = data.filter(items)\n",
    "data_fil.drop_duplicates(inplace=True)"
   ]
  },
  {
   "cell_type": "markdown",
   "metadata": {},
   "source": [
    "#### Encoding the labels of our categoricals columns"
   ]
  },
  {
   "cell_type": "code",
   "execution_count": 25,
   "metadata": {},
   "outputs": [],
   "source": [
    "from sklearn.preprocessing import LabelEncoder\n",
    "enc = LabelEncoder()\n",
    "\n",
    "categoricals = ['FileSize', 'Library', 'Compiler', 'Linker', 'CharSet', 'FileType']\n",
    "for cat in categoricals:\n",
    "    data_fil[cat] = enc.fit_transform(data_fil[cat])"
   ]
  },
  {
   "cell_type": "markdown",
   "metadata": {},
   "source": [
    "#### Standardize numerical features by removing the mean and scaling to unit variance"
   ]
  },
  {
   "cell_type": "code",
   "execution_count": 26,
   "metadata": {},
   "outputs": [],
   "source": [
    "from sklearn.preprocessing import StandardScaler\n",
    "numbers = ['DLL_COUNT','CodeSize','mss_coordinates.BawaneH','mss_coordinates.MultiEncryptWinDLL','mss_coordinates.Sayonara','mss_coordinates.WhatsappSLDLL']\n",
    "sc = StandardScaler()\n",
    "data_fil[numbers] = sc.fit_transform(data_fil[numbers])"
   ]
  },
  {
   "cell_type": "markdown",
   "metadata": {},
   "source": [
    "## Creating model - Random Forest\n",
    "\n",
    "The model chosen for this problem is random forest, since it is a good approach when dealing with categorical variables"
   ]
  },
  {
   "cell_type": "markdown",
   "metadata": {},
   "source": [
    "First of all, we will see the proportion of virus and non-virus in our dataset:"
   ]
  },
  {
   "cell_type": "code",
   "execution_count": 27,
   "metadata": {},
   "outputs": [
    {
     "data": {
      "text/plain": [
       "<matplotlib.axes._subplots.AxesSubplot at 0x7ff80ce5eb38>"
      ]
     },
     "execution_count": 27,
     "metadata": {},
     "output_type": "execute_result"
    },
    {
     "data": {
      "image/png": "[encoded data removed]",
      "text/plain": [
       "<Figure size 216x216 with 1 Axes>"
      ]
     },
     "metadata": {},
     "output_type": "display_data"
    }
   ],
   "source": [
    "import matplotlib.pyplot as plt\n",
    "%matplotlib inline\n",
    "\n",
    "data_fil['IsMalware'].value_counts().plot(\n",
    "    kind='pie', autopct='%.2f%%', figsize=(3, 3), label='')"
   ]
  },
  {
   "cell_type": "markdown",
   "metadata": {},
   "source": [
    "Since the majority of our dataset is of virus types, we will use two approaches as seen in Using Random Forest to Learn Imbalanced Data article(by Chao Chen and Leo Breiman). Link: http://statistics.berkeley.edu/sites/default/files/tech-reports/666.pdf.\n",
    "\n",
    "The first one is the Weighted Random Forest, and for this we will use the sklearn library and its hyperparam class-weight, this method will penalized more the error when guessing wrong non-virus(minority class).\n",
    "\n",
    "The second will be the Balanced Random Forest. For this we will create lots of non-pruned trees with reduced balanced samples of our dataset and aggregates the predictions of the ensemble to make the final prediction."
   ]
  },
  {
   "cell_type": "markdown",
   "metadata": {},
   "source": [
    "#### Model Split\n",
    "\n",
    "The model will be split in a ratio of 80% for training and 20% for testing. Since our dataset is small it will not be used any cross validation."
   ]
  },
  {
   "cell_type": "code",
   "execution_count": 28,
   "metadata": {},
   "outputs": [],
   "source": [
    "features = data_fil.columns.drop('IsMalware')\n",
    "\n",
    "train_set = data_fil.sample(frac=0.8)\n",
    "test_set = data_fil.loc[data_fil.index.isin(train_set.index)==False]"
   ]
  },
  {
   "cell_type": "code",
   "execution_count": 29,
   "metadata": {},
   "outputs": [],
   "source": [
    "train_set = train_set.reset_index().drop('index', axis=1)\n",
    "test_set = test_set.reset_index().drop('index', axis=1)"
   ]
  },
  {
   "cell_type": "markdown",
   "metadata": {},
   "source": [
    "Creating function to plot the ROC and get the AUC score of the models"
   ]
  },
  {
   "cell_type": "code",
   "execution_count": 30,
   "metadata": {},
   "outputs": [],
   "source": [
    "def roc_plot(fpr,tpr):\n",
    "    roc_auc = auc(fpr,tpr)\n",
    "    plt.figure()\n",
    "    lw = 2\n",
    "    plt.plot(fpr, tpr, color='darkorange',\n",
    "             lw=lw, label='ROC curve (area = %0.2f)' % roc_auc)\n",
    "    plt.plot([0, 1], [0, 1], color='navy', lw=lw, linestyle='--')\n",
    "    plt.xlim([0.0, 1.0])\n",
    "    plt.ylim([0.0, 1.05])\n",
    "    plt.xlabel('False Positive Rate')\n",
    "    plt.ylabel('True Positive Rate')\n",
    "    plt.title('Receiver operating characteristic example')\n",
    "    plt.legend(loc=\"lower right\")\n",
    "    plt.show()"
   ]
  },
  {
   "cell_type": "markdown",
   "metadata": {},
   "source": [
    "#### Weighted Random Forest"
   ]
  },
  {
   "cell_type": "code",
   "execution_count": 31,
   "metadata": {},
   "outputs": [
    {
     "name": "stdout",
     "output_type": "stream",
     "text": [
      "Train ACC: 0.8641396134359167\n",
      "Train Precision: 0.9649609276531383\n",
      "Train Recall: 0.86743711760707\n",
      "Train F1 Score: 0.9136038186157518\n"
     ]
    },
    {
     "data": {
      "image/png": "[encoded data removed]",
      "text/plain": [
       "<Figure size 432x288 with 1 Axes>"
      ]
     },
     "metadata": {},
     "output_type": "display_data"
    }
   ],
   "source": [
    "from sklearn.ensemble import RandomForestClassifier\n",
    "from sklearn.metrics import accuracy_score\n",
    "from sklearn.metrics import f1_score\n",
    "from sklearn.metrics import recall_score\n",
    "from sklearn.metrics import precision_score\n",
    "from sklearn.metrics import roc_curve, auc\n",
    "\n",
    "wrf = RandomForestClassifier(n_estimators=300, random_state=42, n_jobs=-1, class_weight='balanced', max_depth=10)\n",
    "X_train = train_set[features].values\n",
    "y_train = train_set.IsMalware.values\n",
    "wrf.fit(X_train,y_train)\n",
    "y_pred_train = wrf.predict(X_train)\n",
    "\n",
    "print('Train ACC: {}'.format(accuracy_score(y_train,y_pred_train)))\n",
    "print('Train Precision: {}'.format(precision_score(y_train,y_pred_train)))\n",
    "print('Train Recall: {}'.format(recall_score(y_train,y_pred_train)))\n",
    "print('Train F1 Score: {}'.format(f1_score(y_train,y_pred_train)))\n",
    "fpr, tpr, th = roc_curve(y_train,wrf.predict_proba(X_train)[:,1])\n",
    "roc_plot(fpr,tpr)"
   ]
  },
  {
   "cell_type": "code",
   "execution_count": 32,
   "metadata": {},
   "outputs": [
    {
     "name": "stdout",
     "output_type": "stream",
     "text": [
      "Test ACC: 0.8183183183183184\n",
      "Test Precision: 0.9295499021526419\n",
      "Test Recall: 0.8482142857142857\n",
      "Test F1 Score: 0.8870214752567693\n"
     ]
    },
    {
     "data": {
      "image/png": "[encoded data removed]",
      "text/plain": [
       "<Figure size 432x288 with 1 Axes>"
      ]
     },
     "metadata": {},
     "output_type": "display_data"
    }
   ],
   "source": [
    "X_test = test_set[features].values\n",
    "y_test = test_set.IsMalware.values\n",
    "y_pred_test = wrf.predict(X_test)\n",
    "\n",
    "print('Test ACC: {}'.format(accuracy_score(y_test,y_pred_test)))\n",
    "print('Test Precision: {}'.format(precision_score(y_test,y_pred_test)))\n",
    "print('Test Recall: {}'.format(recall_score(y_test,y_pred_test)))\n",
    "print('Test F1 Score: {}'.format(f1_score(y_test,y_pred_test)))\n",
    "fpr, tpr, th = roc_curve(y_test,wrf.predict_proba(X_test)[:,1])\n",
    "roc_plot(fpr,tpr)"
   ]
  },
  {
   "cell_type": "markdown",
   "metadata": {},
   "source": [
    "#### Balanced Random Forest"
   ]
  },
  {
   "cell_type": "code",
   "execution_count": 33,
   "metadata": {},
   "outputs": [],
   "source": [
    "from sklearn.tree import DecisionTreeClassifier\n",
    "\n",
    "trees = []\n",
    "\n",
    "for i in range(300):\n",
    "    minority = train_set.loc[train_set['IsMalware']==0]\n",
    "    n = minority.shape[0]\n",
    "    majority = train_set.loc[train_set['IsMalware']==1].sample(n,replace=True)\n",
    "\n",
    "    df = pd.concat([minority,majority]).reset_index().drop('index', axis=1)\n",
    "    \n",
    "    dt = DecisionTreeClassifier(max_features=5)\n",
    "    \n",
    "    X = df[features].values\n",
    "    y = df['IsMalware'].values\n",
    "    dt.fit(X,y)\n",
    "    trees.append(dt)\n"
   ]
  },
  {
   "cell_type": "code",
   "execution_count": 34,
   "metadata": {},
   "outputs": [
    {
     "name": "stdout",
     "output_type": "stream",
     "text": [
      "Train ACC: 0.8504409832989304\n",
      "Train Precision: 1.0\n",
      "Train Recall: 0.8193972354407433\n",
      "Train F1 Score: 0.9007348362187072\n"
     ]
    },
    {
     "data": {
      "image/png": "[encoded data removed]",
      "text/plain": [
       "<Figure size 432x288 with 1 Axes>"
      ]
     },
     "metadata": {},
     "output_type": "display_data"
    }
   ],
   "source": [
    "X_train = train_set[features].values\n",
    "y_train = train_set.IsMalware.values\n",
    "y_proba = np.zeros((y_train.shape[0],300))\n",
    "\n",
    "for i in range(300):\n",
    "    y_proba[:,i] = trees[i].predict_proba(X_train)[:,1]\n",
    "\n",
    "y_proba = y_proba.sum(axis=1)/300\n",
    "y_pred_train = np.around(y_proba)\n",
    "\n",
    "print('Train ACC: {}'.format(accuracy_score(y_train,y_pred_train)))\n",
    "print('Train Precision: {}'.format(precision_score(y_train,y_pred_train)))\n",
    "print('Train Recall: {}'.format(recall_score(y_train,y_pred_train)))\n",
    "print('Train F1 Score: {}'.format(f1_score(y_train,y_pred_train)))\n",
    "fpr, tpr, th = roc_curve(y_train,y_proba)\n",
    "roc_plot(fpr,tpr)"
   ]
  },
  {
   "cell_type": "code",
   "execution_count": 35,
   "metadata": {},
   "outputs": [
    {
     "name": "stdout",
     "output_type": "stream",
     "text": [
      "Test ACC: 0.759009009009009\n",
      "Test Precision: 0.9394939493949395\n",
      "Test Recall: 0.7625\n",
      "Test F1 Score: 0.8417939871858058\n"
     ]
    },
    {
     "data": {
      "image/png": "[encoded data removed]",
      "text/plain": [
       "<Figure size 432x288 with 1 Axes>"
      ]
     },
     "metadata": {},
     "output_type": "display_data"
    }
   ],
   "source": [
    "X_test = test_set[features].values\n",
    "y_test = test_set.IsMalware.values\n",
    "y_proba = np.zeros((y_test.shape[0],300))\n",
    "\n",
    "for i in range(300):\n",
    "    y_proba[:,i] = trees[i].predict_proba(X_test)[:,1]\n",
    "\n",
    "y_proba = y_proba.sum(axis=1)/300\n",
    "y_pred_test = np.around(y_proba)\n",
    "\n",
    "print('Test ACC: {}'.format(accuracy_score(y_test,y_pred_test)))\n",
    "print('Test Precision: {}'.format(precision_score(y_test,y_pred_test)))\n",
    "print('Test Recall: {}'.format(recall_score(y_test,y_pred_test)))\n",
    "print('Test F1 Score: {}'.format(f1_score(y_test,y_pred_test)))\n",
    "fpr, tpr, th = roc_curve(y_test,y_proba)\n",
    "roc_plot(fpr,tpr)"
   ]
  }
 ],
 "metadata": {
  "kernelspec": {
   "display_name": "Python 3",
   "language": "python",
   "name": "python3"
  },
  "language_info": {
   "codemirror_mode": {
    "name": "ipython",
    "version": 3
   },
   "file_extension": ".py",
   "mimetype": "text/x-python",
   "name": "python",
   "nbconvert_exporter": "python",
   "pygments_lexer": "ipython3",
   "version": "3.5.2"
  }
 },
 "nbformat": 4,
 "nbformat_minor": 2
}
